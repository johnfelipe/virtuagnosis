{
 "cells": [
  {
   "cell_type": "code",
   "execution_count": 29,
   "metadata": {},
   "outputs": [],
   "source": [
    "import pandas as pd \n",
    "import json\n",
    "from collections import defaultdict"
   ]
  },
  {
   "cell_type": "code",
   "execution_count": 74,
   "metadata": {},
   "outputs": [
    {
     "name": "stderr",
     "output_type": "stream",
     "text": [
      "C:\\Users\\Conne\\AppData\\Local\\Temp/ipykernel_17620/2642781186.py:62: PerformanceWarning: DataFrame is highly fragmented.  This is usually the result of calling `frame.insert` many times, which has poor performance.  Consider joining all columns at once using pd.concat(axis=1) instead.  To get a de-fragmented frame, use `newframe = frame.copy()`\n",
      "  new_df[sym] = [1 if sym in final_map[key][\"symptoms\"] else 0 for key in final_map]\n"
     ]
    }
   ],
   "source": [
    "disease_df = pd.read_csv(\"diseases_data.csv\")\n",
    "desc_df = pd.read_csv(\"diseases_desc.csv\")\n",
    "\n",
    "\n",
    "symptoms = set()\n",
    "\n",
    "\n",
    "# # dump into file \n",
    "# with open(\"symptoms.json\",\"w\") as file:\n",
    "#     file.write(json.dumps(list(symptoms)))\n",
    "\n",
    "data_dict = disease_df.to_dict()\n",
    "key_list = list(data_dict.keys())[1:]\n",
    "\n",
    "for key in key_list:\n",
    "    key_values = data_dict[key].values()\n",
    "    for symptom in key_values:\n",
    "        if isinstance(symptom,str):\n",
    "            symptom = symptom.strip().replace(\"_\",\" \").capitalize()\n",
    "            symptoms.add(symptom)\n",
    "\n",
    "disease_map = defaultdict(list)\n",
    "\n",
    "    \n",
    "d_names = [name.strip().capitalize() for name in data_dict[\"Disease\"].values()]\n",
    "\n",
    "for col in disease_df.columns:\n",
    "    disease_df[col] = [cell.strip().replace(\"_\",\" \").capitalize() if isinstance(cell,str) else \"N/A\" for cell in disease_df[col]]\n",
    "\n",
    "for col in desc_df.columns:\n",
    "    desc_df[col] = [cell.strip().replace(\"_\",\" \").capitalize() if isinstance(cell,str) else \"N/A\" for cell in desc_df[col]]\n",
    "\n",
    "symptom_map = defaultdict(list)\n",
    "\n",
    "for row in disease_df.itertuples():\n",
    "    filtered_attr = filter(lambda attr : \"Symptom_\" in attr,dir(row))\n",
    "    for attr in filtered_attr:\n",
    "        symptom_map[row.Disease].append(getattr(row,attr))\n",
    "\n",
    "\n",
    "final_map = defaultdict(dict)\n",
    "\n",
    "symptom_map = {key : list(set(filter(lambda val : val != \"N/A\",value))) for key,value in symptom_map.items()}\n",
    "\n",
    "for row in desc_df.itertuples():\n",
    "    final_map[row.Disease][\"desc\"] = row.Description\n",
    "\n",
    "for key in final_map:\n",
    "    if key in symptom_map:\n",
    "        final_map[key][\"symptoms\"] = symptom_map[key]\n",
    "\n",
    "\n",
    "\n",
    "new_df = pd.DataFrame() \n",
    "\n",
    "new_df[\"Disease\"] = [key for key in final_map]\n",
    "\n",
    "with open(\"diseases.json\",\"r\") as file:\n",
    "    final_map = json.loads(file.read())\n",
    "\n",
    "for sym in symptoms:\n",
    "    new_df[sym] = [1 if sym in final_map[key][\"symptoms\"] else 0 for key in final_map]\n",
    "\n",
    "new_df.to_csv(\"final_disease_data.csv\",)"
   ]
  }
 ],
 "metadata": {
  "interpreter": {
   "hash": "9a4ddc6e141e2050f37600390131a31484d6364047cd2a0be782823ba6dd1e02"
  },
  "kernelspec": {
   "display_name": "Python 3.9.6 64-bit",
   "language": "python",
   "name": "python3"
  },
  "language_info": {
   "codemirror_mode": {
    "name": "ipython",
    "version": 3
   },
   "file_extension": ".py",
   "mimetype": "text/x-python",
   "name": "python",
   "nbconvert_exporter": "python",
   "pygments_lexer": "ipython3",
   "version": "3.9.6"
  },
  "orig_nbformat": 4
 },
 "nbformat": 4,
 "nbformat_minor": 2
}
